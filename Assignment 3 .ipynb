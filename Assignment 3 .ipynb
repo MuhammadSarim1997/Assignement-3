{
 "cells": [
  {
   "cell_type": "code",
   "execution_count": 7,
   "metadata": {},
   "outputs": [
    {
     "ename": "SyntaxError",
     "evalue": "invalid syntax (<ipython-input-7-a0ccabb2c1f8>, line 1)",
     "output_type": "error",
     "traceback": [
      "\u001b[1;36m  File \u001b[1;32m\"<ipython-input-7-a0ccabb2c1f8>\"\u001b[1;36m, line \u001b[1;32m1\u001b[0m\n\u001b[1;33m    import \"https://file-examples.com/wp-content/uploads/2017/02/index.html\"\u001b[0m\n\u001b[1;37m                                                                           ^\u001b[0m\n\u001b[1;31mSyntaxError\u001b[0m\u001b[1;31m:\u001b[0m invalid syntax\n"
     ]
    }
   ],
   "source": [
    "import \"https://file-examples.com/wp-content/uploads/2017/02/index.html\"\n",
    "f = open(\"https://file-examples.com/wp-content/uploads/2017/02/index.html\",'r')\n",
    "lines = 0\n",
    "words = 0\n",
    "characters = 0\n",
    "for line in f:\n",
    "   lines = \"  \"\n",
    "   words = \" \"\n",
    "print('no of lines in the file : ',lines)\n",
    "print('no of words in the file : ',words)\n",
    "f.close();"
   ]
  }
 ],
 "metadata": {
  "kernelspec": {
   "display_name": "Python 3",
   "language": "python",
   "name": "python3"
  },
  "language_info": {
   "codemirror_mode": {
    "name": "ipython",
    "version": 3
   },
   "file_extension": ".py",
   "mimetype": "text/x-python",
   "name": "python",
   "nbconvert_exporter": "python",
   "pygments_lexer": "ipython3",
   "version": "3.7.3"
  }
 },
 "nbformat": 4,
 "nbformat_minor": 2
}
